{
 "cells": [
  {
   "cell_type": "code",
   "execution_count": 2,
   "metadata": {
    "tags": []
   },
   "outputs": [],
   "source": [
    "from web3 import Web3, Account"
   ]
  },
  {
   "cell_type": "code",
   "execution_count": 3,
   "metadata": {},
   "outputs": [],
   "source": [
    "local_ganache_http_provider = 'HTTP://127.0.0.1:7545'"
   ]
  },
  {
   "cell_type": "code",
   "execution_count": 4,
   "metadata": {},
   "outputs": [],
   "source": [
    "w3=Web3(Web3.HTTPProvider(local_ganache_http_provider))"
   ]
  },
  {
   "cell_type": "code",
   "execution_count": 6,
   "metadata": {},
   "outputs": [
    {
     "data": {
      "text/plain": [
       "AttributeDict({'number': 0,\n",
       " 'hash': HexBytes('0x65cdf72ef721839715d2f80cf1ad84694d4eb4060a734eb5c81acd6d14be7b29'),\n",
       " 'parentHash': HexBytes('0x0000000000000000000000000000000000000000000000000000000000000000'),\n",
       " 'mixHash': HexBytes('0x0000000000000000000000000000000000000000000000000000000000000000'),\n",
       " 'nonce': HexBytes('0x0000000000000000'),\n",
       " 'sha3Uncles': HexBytes('0x1dcc4de8dec75d7aab85b567b6ccd41ad312451b948a7413f0a142fd40d49347'),\n",
       " 'logsBloom': HexBytes('0x00000000000000000000000000000000000000000000000000000000000000000000000000000000000000000000000000000000000000000000000000000000000000000000000000000000000000000000000000000000000000000000000000000000000000000000000000000000000000000000000000000000000000000000000000000000000000000000000000000000000000000000000000000000000000000000000000000000000000000000000000000000000000000000000000000000000000000000000000000000000000000000000000000000000000000000000000000000000000000000000000000000000000000000000000000000'),\n",
       " 'transactionsRoot': HexBytes('0x56e81f171bcc55a6ff8345e692c0f86e5b48e01b996cadc001622fb5e363b421'),\n",
       " 'stateRoot': HexBytes('0x172dc1eff52dacbf25f8099609ccd16a5e9c0d54edc96eab222f8efbb23bc098'),\n",
       " 'receiptsRoot': HexBytes('0x56e81f171bcc55a6ff8345e692c0f86e5b48e01b996cadc001622fb5e363b421'),\n",
       " 'miner': '0x0000000000000000000000000000000000000000',\n",
       " 'difficulty': 0,\n",
       " 'totalDifficulty': 0,\n",
       " 'extraData': HexBytes('0x'),\n",
       " 'size': 1000,\n",
       " 'gasLimit': 6721975,\n",
       " 'gasUsed': 0,\n",
       " 'timestamp': 1654119143,\n",
       " 'transactions': [],\n",
       " 'uncles': []})"
      ]
     },
     "execution_count": 6,
     "metadata": {},
     "output_type": "execute_result"
    }
   ],
   "source": [
    "w3.eth.get_block('latest')"
   ]
  },
  {
   "cell_type": "code",
   "execution_count": 12,
   "metadata": {},
   "outputs": [],
   "source": [
    "accounts = w3.eth.accounts"
   ]
  },
  {
   "cell_type": "code",
   "execution_count": 23,
   "metadata": {},
   "outputs": [
    {
     "data": {
      "text/plain": [
       "\"\\nSample Transaction\\n    {\\n        transaction_id: int,\\n        customer_id: address_from_ganache,\\n        transaction_amount: int(in dollars),\\n        transaction_category: ['gas', 'restaurant',  'grocery', 'subscription', 'entertainment'],\\n        transaction_date: Date\\n    }\\n\""
      ]
     },
     "execution_count": 23,
     "metadata": {},
     "output_type": "execute_result"
    }
   ],
   "source": [
    "\"\"\"\n",
    "Sample Transaction\n",
    "    {\n",
    "        transaction_id: int,\n",
    "        customer_id: address_from_ganache,\n",
    "        transaction_amount: int(in dollars),\n",
    "        transaction_category: ['gas', 'restaurant',  'grocery', 'subscription', 'entertainment'],\n",
    "        transaction_date: Date\n",
    "    }\n",
    "\"\"\""
   ]
  },
  {
   "cell_type": "code",
   "execution_count": 27,
   "metadata": {},
   "outputs": [],
   "source": [
    "from random import choice\n",
    "import random\n",
    "from datetime import datetime\n",
    "from time import sleep\n",
    "txn_categories = ['gas', 'restaurant',  'grocery', 'subscription', 'entertainment']"
   ]
  },
  {
   "cell_type": "code",
   "execution_count": 28,
   "metadata": {},
   "outputs": [
    {
     "name": "stdout",
     "output_type": "stream",
     "text": [
      "{'id': 0, 'customer_id': '0x613c66B0D1cF9aF2cdf5c0D790A44edFa6Fc25B1', 'amount': 28.19, 'category': 'grocery', 'date': datetime.datetime(2022, 6, 1, 22, 24, 8, 346131)}\n",
      "{'id': 1, 'customer_id': '0xEb22c8DA84af3f53030367A1c0fC0a356a70c5A9', 'amount': 98.19, 'category': 'subscription', 'date': datetime.datetime(2022, 6, 1, 22, 24, 9, 351024)}\n",
      "{'id': 2, 'customer_id': '0x5e0d71269A0CEf963f15e198D073031DE84260ca', 'amount': 33.49, 'category': 'entertainment', 'date': datetime.datetime(2022, 6, 1, 22, 24, 10, 356141)}\n",
      "{'id': 3, 'customer_id': '0x5e0d71269A0CEf963f15e198D073031DE84260ca', 'amount': 42.25, 'category': 'entertainment', 'date': datetime.datetime(2022, 6, 1, 22, 24, 11, 361055)}\n",
      "{'id': 4, 'customer_id': '0xEb22c8DA84af3f53030367A1c0fC0a356a70c5A9', 'amount': 80.49, 'category': 'grocery', 'date': datetime.datetime(2022, 6, 1, 22, 24, 12, 366088)}\n",
      "{'id': 5, 'customer_id': '0x5e0d71269A0CEf963f15e198D073031DE84260ca', 'amount': 95.55, 'category': 'grocery', 'date': datetime.datetime(2022, 6, 1, 22, 24, 13, 370449)}\n",
      "{'id': 6, 'customer_id': '0x267BEb12987B571B8ffE0D886c49aE0f39B0d3a6', 'amount': 70.02, 'category': 'restaurant', 'date': datetime.datetime(2022, 6, 1, 22, 24, 14, 373396)}\n",
      "{'id': 7, 'customer_id': '0x1171d9A898e41f07E34E52B7A66CBA432Ed056f7', 'amount': 86.24, 'category': 'subscription', 'date': datetime.datetime(2022, 6, 1, 22, 24, 15, 377909)}\n",
      "{'id': 8, 'customer_id': '0x5e0d71269A0CEf963f15e198D073031DE84260ca', 'amount': 25.12, 'category': 'gas', 'date': datetime.datetime(2022, 6, 1, 22, 24, 16, 380368)}\n",
      "{'id': 9, 'customer_id': '0xBA62103b359E60632C1Ad9c2A84d357F4e8690EA', 'amount': 9.65, 'category': 'gas', 'date': datetime.datetime(2022, 6, 1, 22, 24, 17, 385573)}\n",
      "{'id': 10, 'customer_id': '0x5e0d71269A0CEf963f15e198D073031DE84260ca', 'amount': 9.26, 'category': 'subscription', 'date': datetime.datetime(2022, 6, 1, 22, 24, 18, 390118)}\n",
      "{'id': 11, 'customer_id': '0xcF3744626CA0Ae47bed505A5304223256C2e9467', 'amount': 83.87, 'category': 'gas', 'date': datetime.datetime(2022, 6, 1, 22, 24, 19, 394788)}\n",
      "{'id': 12, 'customer_id': '0x267BEb12987B571B8ffE0D886c49aE0f39B0d3a6', 'amount': 56.61, 'category': 'restaurant', 'date': datetime.datetime(2022, 6, 1, 22, 24, 20, 400038)}\n",
      "{'id': 13, 'customer_id': '0xBA62103b359E60632C1Ad9c2A84d357F4e8690EA', 'amount': 58.44, 'category': 'grocery', 'date': datetime.datetime(2022, 6, 1, 22, 24, 21, 405289)}\n",
      "{'id': 14, 'customer_id': '0x1AdE4dF59b4aF5A1C724Dc857c382a34aFD8089E', 'amount': 97.16, 'category': 'restaurant', 'date': datetime.datetime(2022, 6, 1, 22, 24, 22, 410413)}\n",
      "{'id': 15, 'customer_id': '0x613c66B0D1cF9aF2cdf5c0D790A44edFa6Fc25B1', 'amount': 99.18, 'category': 'grocery', 'date': datetime.datetime(2022, 6, 1, 22, 24, 23, 414322)}\n",
      "{'id': 16, 'customer_id': '0x1AdE4dF59b4aF5A1C724Dc857c382a34aFD8089E', 'amount': 33.17, 'category': 'grocery', 'date': datetime.datetime(2022, 6, 1, 22, 24, 24, 418796)}\n",
      "{'id': 17, 'customer_id': '0x1171d9A898e41f07E34E52B7A66CBA432Ed056f7', 'amount': 54.32, 'category': 'restaurant', 'date': datetime.datetime(2022, 6, 1, 22, 24, 25, 421523)}\n",
      "{'id': 18, 'customer_id': '0xBA62103b359E60632C1Ad9c2A84d357F4e8690EA', 'amount': 99.34, 'category': 'entertainment', 'date': datetime.datetime(2022, 6, 1, 22, 24, 26, 425106)}\n",
      "{'id': 19, 'customer_id': '0xcF3744626CA0Ae47bed505A5304223256C2e9467', 'amount': 38.73, 'category': 'grocery', 'date': datetime.datetime(2022, 6, 1, 22, 24, 27, 430176)}\n",
      "{'id': 20, 'customer_id': '0xEb22c8DA84af3f53030367A1c0fC0a356a70c5A9', 'amount': 26.55, 'category': 'grocery', 'date': datetime.datetime(2022, 6, 1, 22, 24, 28, 434353)}\n",
      "{'id': 21, 'customer_id': '0xEb22c8DA84af3f53030367A1c0fC0a356a70c5A9', 'amount': 17.3, 'category': 'grocery', 'date': datetime.datetime(2022, 6, 1, 22, 24, 29, 438331)}\n",
      "{'id': 22, 'customer_id': '0x613c66B0D1cF9aF2cdf5c0D790A44edFa6Fc25B1', 'amount': 67.27, 'category': 'restaurant', 'date': datetime.datetime(2022, 6, 1, 22, 24, 30, 443201)}\n",
      "{'id': 23, 'customer_id': '0xEb22c8DA84af3f53030367A1c0fC0a356a70c5A9', 'amount': 86.94, 'category': 'gas', 'date': datetime.datetime(2022, 6, 1, 22, 24, 31, 446455)}\n",
      "{'id': 24, 'customer_id': '0x5e0d71269A0CEf963f15e198D073031DE84260ca', 'amount': 26.08, 'category': 'subscription', 'date': datetime.datetime(2022, 6, 1, 22, 24, 32, 451519)}\n",
      "{'id': 25, 'customer_id': '0xbAe5EF513614A491ec670e4030b8e3f210c0569e', 'amount': 67.32, 'category': 'entertainment', 'date': datetime.datetime(2022, 6, 1, 22, 24, 33, 456447)}\n",
      "{'id': 26, 'customer_id': '0x613c66B0D1cF9aF2cdf5c0D790A44edFa6Fc25B1', 'amount': 38.08, 'category': 'gas', 'date': datetime.datetime(2022, 6, 1, 22, 24, 34, 460240)}\n",
      "{'id': 27, 'customer_id': '0xBA62103b359E60632C1Ad9c2A84d357F4e8690EA', 'amount': 1.17, 'category': 'grocery', 'date': datetime.datetime(2022, 6, 1, 22, 24, 35, 464515)}\n",
      "{'id': 28, 'customer_id': '0x613c66B0D1cF9aF2cdf5c0D790A44edFa6Fc25B1', 'amount': 80.2, 'category': 'subscription', 'date': datetime.datetime(2022, 6, 1, 22, 24, 36, 468633)}\n",
      "{'id': 29, 'customer_id': '0xBA62103b359E60632C1Ad9c2A84d357F4e8690EA', 'amount': 44.66, 'category': 'restaurant', 'date': datetime.datetime(2022, 6, 1, 22, 24, 37, 471559)}\n",
      "{'id': 30, 'customer_id': '0x613c66B0D1cF9aF2cdf5c0D790A44edFa6Fc25B1', 'amount': 84.35, 'category': 'grocery', 'date': datetime.datetime(2022, 6, 1, 22, 24, 38, 475603)}\n",
      "{'id': 31, 'customer_id': '0x1AdE4dF59b4aF5A1C724Dc857c382a34aFD8089E', 'amount': 47.18, 'category': 'restaurant', 'date': datetime.datetime(2022, 6, 1, 22, 24, 39, 480386)}\n",
      "{'id': 32, 'customer_id': '0x267BEb12987B571B8ffE0D886c49aE0f39B0d3a6', 'amount': 46.05, 'category': 'entertainment', 'date': datetime.datetime(2022, 6, 1, 22, 24, 40, 484395)}\n",
      "{'id': 33, 'customer_id': '0xcF3744626CA0Ae47bed505A5304223256C2e9467', 'amount': 28.02, 'category': 'entertainment', 'date': datetime.datetime(2022, 6, 1, 22, 24, 41, 488769)}\n",
      "{'id': 34, 'customer_id': '0x5e0d71269A0CEf963f15e198D073031DE84260ca', 'amount': 36.74, 'category': 'restaurant', 'date': datetime.datetime(2022, 6, 1, 22, 24, 42, 493613)}\n",
      "{'id': 35, 'customer_id': '0x5e0d71269A0CEf963f15e198D073031DE84260ca', 'amount': 67.0, 'category': 'entertainment', 'date': datetime.datetime(2022, 6, 1, 22, 24, 43, 498931)}\n",
      "{'id': 36, 'customer_id': '0x1AdE4dF59b4aF5A1C724Dc857c382a34aFD8089E', 'amount': 61.12, 'category': 'entertainment', 'date': datetime.datetime(2022, 6, 1, 22, 24, 44, 501882)}\n",
      "{'id': 37, 'customer_id': '0x613c66B0D1cF9aF2cdf5c0D790A44edFa6Fc25B1', 'amount': 11.24, 'category': 'entertainment', 'date': datetime.datetime(2022, 6, 1, 22, 24, 45, 506199)}\n",
      "{'id': 38, 'customer_id': '0x5e0d71269A0CEf963f15e198D073031DE84260ca', 'amount': 42.52, 'category': 'entertainment', 'date': datetime.datetime(2022, 6, 1, 22, 24, 46, 510645)}\n",
      "{'id': 39, 'customer_id': '0xBA62103b359E60632C1Ad9c2A84d357F4e8690EA', 'amount': 22.13, 'category': 'subscription', 'date': datetime.datetime(2022, 6, 1, 22, 24, 47, 515457)}\n",
      "{'id': 40, 'customer_id': '0x5e0d71269A0CEf963f15e198D073031DE84260ca', 'amount': 21.99, 'category': 'subscription', 'date': datetime.datetime(2022, 6, 1, 22, 24, 48, 520745)}\n",
      "{'id': 41, 'customer_id': '0x5e0d71269A0CEf963f15e198D073031DE84260ca', 'amount': 30.63, 'category': 'entertainment', 'date': datetime.datetime(2022, 6, 1, 22, 24, 49, 523628)}\n",
      "{'id': 42, 'customer_id': '0xBA62103b359E60632C1Ad9c2A84d357F4e8690EA', 'amount': 60.39, 'category': 'restaurant', 'date': datetime.datetime(2022, 6, 1, 22, 24, 50, 528418)}\n",
      "{'id': 43, 'customer_id': '0xBA62103b359E60632C1Ad9c2A84d357F4e8690EA', 'amount': 83.86, 'category': 'restaurant', 'date': datetime.datetime(2022, 6, 1, 22, 24, 51, 532743)}\n",
      "{'id': 44, 'customer_id': '0xBA62103b359E60632C1Ad9c2A84d357F4e8690EA', 'amount': 25.71, 'category': 'gas', 'date': datetime.datetime(2022, 6, 1, 22, 24, 52, 537892)}\n",
      "{'id': 45, 'customer_id': '0x267BEb12987B571B8ffE0D886c49aE0f39B0d3a6', 'amount': 61.79, 'category': 'grocery', 'date': datetime.datetime(2022, 6, 1, 22, 24, 53, 542149)}\n",
      "{'id': 46, 'customer_id': '0xBA62103b359E60632C1Ad9c2A84d357F4e8690EA', 'amount': 30.4, 'category': 'subscription', 'date': datetime.datetime(2022, 6, 1, 22, 24, 54, 546798)}\n",
      "{'id': 47, 'customer_id': '0xEb22c8DA84af3f53030367A1c0fC0a356a70c5A9', 'amount': 10.36, 'category': 'grocery', 'date': datetime.datetime(2022, 6, 1, 22, 24, 55, 551825)}\n",
      "{'id': 48, 'customer_id': '0xEb22c8DA84af3f53030367A1c0fC0a356a70c5A9', 'amount': 86.77, 'category': 'gas', 'date': datetime.datetime(2022, 6, 1, 22, 24, 56, 556939)}\n",
      "{'id': 49, 'customer_id': '0xcF3744626CA0Ae47bed505A5304223256C2e9467', 'amount': 35.57, 'category': 'entertainment', 'date': datetime.datetime(2022, 6, 1, 22, 24, 57, 560737)}\n"
     ]
    }
   ],
   "source": [
    "for i in range(50):\n",
    "    tx = {}\n",
    "    tx['id'] = i\n",
    "    tx['customer_id'] = choice(accounts)\n",
    "    tx['amount'] = round(random.uniform(0.5, 99.5), 2)\n",
    "    tx['category'] = choice(txn_categories)\n",
    "    tx['date'] = datetime.now()\n",
    "    sleep(1)\n",
    "    print(tx)"
   ]
  },
  {
   "cell_type": "code",
   "execution_count": null,
   "metadata": {},
   "outputs": [],
   "source": []
  }
 ],
 "metadata": {
  "kernelspec": {
   "display_name": "Python 3 (ipykernel)",
   "language": "python",
   "name": "python3"
  },
  "language_info": {
   "codemirror_mode": {
    "name": "ipython",
    "version": 3
   },
   "file_extension": ".py",
   "mimetype": "text/x-python",
   "name": "python",
   "nbconvert_exporter": "python",
   "pygments_lexer": "ipython3",
   "version": "3.7.11"
  }
 },
 "nbformat": 4,
 "nbformat_minor": 4
}
