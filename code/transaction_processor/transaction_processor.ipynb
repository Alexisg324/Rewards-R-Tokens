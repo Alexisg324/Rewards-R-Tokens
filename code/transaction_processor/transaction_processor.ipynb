{
 "cells": [
  {
   "cell_type": "markdown",
   "metadata": {},
   "source": [
    "# TRANSACTIONS PROCESSOR\n",
    "\n",
    "In Rewards-R-Tokens, the transactions processor is primarily responsible for:\n",
    "\n",
    "1. Mocking credit card transactions\n",
    "2. Calculate appropriate rewards token count\n",
    "3. Interact with deployed smart contract\n",
    "4. Transfer token to the customer address.\n",
    "\n",
    "A credit card transaction in our blockchain world carries the following schema:\n",
    "\n",
    "```code=json\n",
    "    {\n",
    "    transaction_id: int,\n",
    "    customer_id: address_from_ganache,\n",
    "    transaction_amount: int(in dollars),\n",
    "    transaction_category: ['gas', 'restaurant', 'grocery', 'subscription', 'entertainment'],\n",
    "    transaction_date: Date\n",
    "    }\n",
    "```"
   ]
  },
  {
   "cell_type": "code",
   "execution_count": 1,
   "metadata": {},
   "outputs": [],
   "source": [
    "# Project Imports\n",
    "\n",
    "from time import sleep\n",
    "from web3 import Web3, Account\n",
    "from dotenv import load_dotenv\n",
    "from random import choice\n",
    "from datetime import datetime\n",
    "\n",
    "import os\n",
    "import json\n",
    "import random"
   ]
  },
  {
   "cell_type": "code",
   "execution_count": 2,
   "metadata": {},
   "outputs": [],
   "source": [
    "# Declare local Ganache HTTP provider\n",
    "local_ganache_http_provider = 'HTTP://127.0.0.1:7545'\n",
    "\n",
    "# Connect to the local Ganache HTTP provider\n",
    "w3=Web3(Web3.HTTPProvider(local_ganache_http_provider))"
   ]
  },
  {
   "cell_type": "code",
   "execution_count": 3,
   "metadata": {},
   "outputs": [
    {
     "name": "stdout",
     "output_type": "stream",
     "text": [
      "Contract Deployed at: 0x1e118cC53da662dDc0C28CB5119833eF4168fC95 by 0x03Cc221e329d0CAcd5A57C6E117b77220b64C070\n"
     ]
    }
   ],
   "source": [
    "\"\"\"\n",
    "!!! ATTENTION !!! ATTENTION !!! ATTENTION !!!\n",
    "\n",
    ".env file must be present in the current working directory\n",
    "wuth the following key:value pairs:\n",
    "\n",
    "CONTRACT_ADDRESS=<Deployed Contact Address from Remix>\n",
    "CONTRACT_OWNER_ADDRESS=<Contract Owner Address from Ganache>\n",
    "CONTRACT_OWNER_PVT_KEY=<Private key of CONTRACT_OWNER_ADDRESS from Ganache>\n",
    "\n",
    "You should pick the address of account that was used to deploy the contract \n",
    "as CONTRACT_OWNER_ADDRESS from Ganache.\n",
    "\"\"\"\n",
    "\n",
    "\n",
    "load_dotenv()\n",
    "contract_address = os.getenv('CONTRACT_ADDRESS')\n",
    "contract_owner_address = os.getenv('CONTRACT_OWNER_ADDRESS')\n",
    "contract_owner_pvt_key = os.getenv('CONTRACT_OWNER_PVT_KEY')\n",
    "print(f'Contract Deployed at: {contract_address} by {contract_owner_address}')"
   ]
  },
  {
   "cell_type": "code",
   "execution_count": 4,
   "metadata": {},
   "outputs": [],
   "source": [
    "# Load Application Binary Interface (abi) file as JSON\n",
    "\n",
    "with open('contract_abi.txt') as contract_abi_file:\n",
    "    contract_abi_json = json.load(contract_abi_file)\n",
    "\n",
    "# Connect to the deployed contract\n",
    "rt_contract = w3.eth.contract(contract_address, abi=contract_abi_json)"
   ]
  },
  {
   "cell_type": "code",
   "execution_count": 5,
   "metadata": {},
   "outputs": [],
   "source": [
    "# Get all accounts from local Ganache provider\n",
    "accounts = w3.eth.accounts\n",
    "\n",
    "# Remove contract owner address from accounts as we\n",
    "# DO NOT want to use the owner address for transacations.\n",
    "accounts.remove(contract_owner_address)"
   ]
  },
  {
   "cell_type": "code",
   "execution_count": 6,
   "metadata": {},
   "outputs": [],
   "source": [
    "# Create a dictionary for total customer spendings\n",
    "customer_totals = {}"
   ]
  },
  {
   "cell_type": "code",
   "execution_count": 7,
   "metadata": {},
   "outputs": [],
   "source": [
    "# Declare of list of transaction categories\n",
    "txn_categories = ['gas', 'restaurant',  'grocery', 'subscription', 'entertainment']"
   ]
  },
  {
   "cell_type": "code",
   "execution_count": 8,
   "metadata": {},
   "outputs": [],
   "source": [
    "# Declare custom token conversion values for categories.\n",
    "# TODO: This is a static list but this would be modified to be served via an API\n",
    "#  to make it dynamic in future.\n",
    "\n",
    "txn_categories_conversion_rate = { \n",
    "                                  'gas': 2.0,\n",
    "                                  'restaurant': 1.5, \n",
    "                                  'grocery': 1.0,\n",
    "                                  'subscription': 3.0,\n",
    "                                  'entertainment': 2.5\n",
    "                                 }\n",
    "\n",
    "# Number of tokens awarded = transacation_amount * txn_categories_conversion_rate[transacation_category]\n",
    "# This basically means the following:\n",
    "# If a customer spends $10 on gas, they would get 20 tokens\n",
    "# =====> $10 (transacation_amount) * 2.0 (txn_categories_conversion_rate['gas']))\n",
    "# If a customer spends $9.99 on subscriptions, they would get 29.97 tokens \n",
    "# =====> $9.99 (transacation_amount) * 3.0 (txn_categories_conversion_rate['subscription']))"
   ]
  },
  {
   "cell_type": "code",
   "execution_count": 9,
   "metadata": {},
   "outputs": [],
   "source": [
    "# Define a generator function to mock credit card transactions:\n",
    "\n",
    "def credit_card_transactions(num_transacations=10):\n",
    "    for i in range(num_transacations):\n",
    "        tx = {}\n",
    "        tx['id'] = i\n",
    "        tx['customer_id'] = choice(accounts)\n",
    "        tx['amount'] = round(random.uniform(0.5, 99.5), 2)\n",
    "        tx['category'] = choice(txn_categories)\n",
    "        tx['date'] = datetime.now().strftime('%Y-%m-%d %H:%M:%S')\n",
    "        yield tx\n",
    "    "
   ]
  },
  {
   "cell_type": "code",
   "execution_count": 10,
   "metadata": {},
   "outputs": [
    {
     "name": "stdout",
     "output_type": "stream",
     "text": [
      "244.0 tokens awarded to 0xB7f399244620EcDd20A8b231DF65FaBb11FC2A65 for spending $97.78 on entertainment.\n",
      "21.0 tokens awarded to 0xf93cEDcFcFde749ec876698185fA090E6880CA07 for spending $10.68 on gas.\n",
      "136.0 tokens awarded to 0x6781C4D10aE1A586baAB792ca85200eF204c6779 for spending $54.62 on entertainment.\n",
      "105.0 tokens awarded to 0xCFe793AcEea7525764403b99cbDd60c36892242C for spending $42.15 on entertainment.\n",
      "27.0 tokens awarded to 0xF09bBa9C791f6898D45Ae761d410D774BE5D52F0 for spending $27.07 on grocery.\n",
      "123.0 tokens awarded to 0xaE8c4Ef75f9fb0Ffae5578F912B1BbE3b8ce493e for spending $41.12 on subscription.\n",
      "35.0 tokens awarded to 0x7DA90F3794c71817f3744994DaF762f5b1E4079c for spending $14.06 on entertainment.\n",
      "13.0 tokens awarded to 0xA81dd6b3dcdE173C76B43de2CC60998cd1779Cda for spending $13.33 on grocery.\n",
      "135.0 tokens awarded to 0xCFe793AcEea7525764403b99cbDd60c36892242C for spending $45.21 on subscription.\n",
      "72.0 tokens awarded to 0x6781C4D10aE1A586baAB792ca85200eF204c6779 for spending $28.84 on entertainment.\n",
      "92.0 tokens awarded to 0x6781C4D10aE1A586baAB792ca85200eF204c6779 for spending $92.53 on grocery.\n",
      "69.0 tokens awarded to 0xA81dd6b3dcdE173C76B43de2CC60998cd1779Cda for spending $46.63 on restaurant.\n",
      "118.0 tokens awarded to 0xB7f399244620EcDd20A8b231DF65FaBb11FC2A65 for spending $47.45 on entertainment.\n",
      "189.0 tokens awarded to 0x7DA90F3794c71817f3744994DaF762f5b1E4079c for spending $94.68 on gas.\n",
      "79.0 tokens awarded to 0xD69c0387909fA62a6C621e3A564Bf6e5F518CFc5 for spending $31.93 on entertainment.\n",
      "131.0 tokens awarded to 0xaE8c4Ef75f9fb0Ffae5578F912B1BbE3b8ce493e for spending $87.94 on restaurant.\n",
      "88.0 tokens awarded to 0xCFe793AcEea7525764403b99cbDd60c36892242C for spending $35.59 on entertainment.\n",
      "40.0 tokens awarded to 0xF09bBa9C791f6898D45Ae761d410D774BE5D52F0 for spending $40.15 on grocery.\n",
      "198.0 tokens awarded to 0xA81dd6b3dcdE173C76B43de2CC60998cd1779Cda for spending $99.27 on gas.\n",
      "135.0 tokens awarded to 0xD69c0387909fA62a6C621e3A564Bf6e5F518CFc5 for spending $90.36 on restaurant.\n",
      "127.0 tokens awarded to 0xF09bBa9C791f6898D45Ae761d410D774BE5D52F0 for spending $51.11 on entertainment.\n",
      "19.0 tokens awarded to 0xf93cEDcFcFde749ec876698185fA090E6880CA07 for spending $19.4 on grocery.\n",
      "97.0 tokens awarded to 0x7DA90F3794c71817f3744994DaF762f5b1E4079c for spending $97.36 on grocery.\n",
      "153.0 tokens awarded to 0xB7f399244620EcDd20A8b231DF65FaBb11FC2A65 for spending $51.28 on subscription.\n",
      "24.0 tokens awarded to 0xF09bBa9C791f6898D45Ae761d410D774BE5D52F0 for spending $9.92 on entertainment.\n",
      "14.0 tokens awarded to 0xA81dd6b3dcdE173C76B43de2CC60998cd1779Cda for spending $4.82 on subscription.\n",
      "66.0 tokens awarded to 0xf93cEDcFcFde749ec876698185fA090E6880CA07 for spending $22.21 on subscription.\n",
      "63.0 tokens awarded to 0xD69c0387909fA62a6C621e3A564Bf6e5F518CFc5 for spending $63.84 on grocery.\n",
      "180.0 tokens awarded to 0xCFe793AcEea7525764403b99cbDd60c36892242C for spending $60.16 on subscription.\n",
      "87.0 tokens awarded to 0x7DA90F3794c71817f3744994DaF762f5b1E4079c for spending $43.64 on gas.\n",
      "177.0 tokens awarded to 0xCFe793AcEea7525764403b99cbDd60c36892242C for spending $70.91 on entertainment.\n",
      "66.0 tokens awarded to 0xD69c0387909fA62a6C621e3A564Bf6e5F518CFc5 for spending $66.39 on grocery.\n",
      "54.0 tokens awarded to 0xaE8c4Ef75f9fb0Ffae5578F912B1BbE3b8ce493e for spending $36.62 on restaurant.\n",
      "216.0 tokens awarded to 0xD69c0387909fA62a6C621e3A564Bf6e5F518CFc5 for spending $72.12 on subscription.\n",
      "275.0 tokens awarded to 0xf93cEDcFcFde749ec876698185fA090E6880CA07 for spending $91.88 on subscription.\n",
      "188.0 tokens awarded to 0xB7f399244620EcDd20A8b231DF65FaBb11FC2A65 for spending $75.2 on entertainment.\n",
      "156.0 tokens awarded to 0xD69c0387909fA62a6C621e3A564Bf6e5F518CFc5 for spending $78.25 on gas.\n",
      "117.0 tokens awarded to 0xD69c0387909fA62a6C621e3A564Bf6e5F518CFc5 for spending $47.07 on entertainment.\n",
      "89.0 tokens awarded to 0x7DA90F3794c71817f3744994DaF762f5b1E4079c for spending $59.48 on restaurant.\n",
      "47.0 tokens awarded to 0xf93cEDcFcFde749ec876698185fA090E6880CA07 for spending $31.97 on restaurant.\n",
      "71.0 tokens awarded to 0xB7f399244620EcDd20A8b231DF65FaBb11FC2A65 for spending $71.58 on grocery.\n",
      "48.0 tokens awarded to 0x7DA90F3794c71817f3744994DaF762f5b1E4079c for spending $16.31 on subscription.\n",
      "3.0 tokens awarded to 0xD69c0387909fA62a6C621e3A564Bf6e5F518CFc5 for spending $1.51 on gas.\n",
      "110.0 tokens awarded to 0xCFe793AcEea7525764403b99cbDd60c36892242C for spending $73.84 on restaurant.\n",
      "208.0 tokens awarded to 0xA81dd6b3dcdE173C76B43de2CC60998cd1779Cda for spending $69.52 on subscription.\n",
      "157.0 tokens awarded to 0xA81dd6b3dcdE173C76B43de2CC60998cd1779Cda for spending $63.12 on entertainment.\n",
      "94.0 tokens awarded to 0xD69c0387909fA62a6C621e3A564Bf6e5F518CFc5 for spending $47.2 on gas.\n",
      "5.0 tokens awarded to 0x6781C4D10aE1A586baAB792ca85200eF204c6779 for spending $2.1 on entertainment.\n",
      "207.0 tokens awarded to 0xD69c0387909fA62a6C621e3A564Bf6e5F518CFc5 for spending $82.81 on entertainment.\n",
      "31.0 tokens awarded to 0xD69c0387909fA62a6C621e3A564Bf6e5F518CFc5 for spending $15.91 on gas.\n"
     ]
    }
   ],
   "source": [
    "for c_txn in credit_card_transactions(50):\n",
    "    num_tokens_award = c_txn['amount'] * txn_categories_conversion_rate[c_txn['category']]\n",
    "    num_tokens_award = int(num_tokens_award) * (10**18)\n",
    "    txn = {\n",
    "    'from': contract_owner_address,\n",
    "    'nonce': w3.eth.get_transaction_count(contract_owner_address),\n",
    "    'gasPrice': w3.eth.gas_price\n",
    "    }\n",
    "    \n",
    "    raw_txn = rt_contract.functions.mint(c_txn['customer_id'], num_tokens_award).buildTransaction(txn)\n",
    "    \n",
    "    signed_txn = w3.eth.account.signTransaction(raw_txn, private_key=contract_owner_pvt_key)\n",
    "    \n",
    "    txn_response = w3.eth.sendRawTransaction(signed_txn.rawTransaction)\n",
    "    \n",
    "    print(f\"{num_tokens_award/(10**18)} tokens awarded to {c_txn['customer_id']} for spending ${c_txn['amount']} on {c_txn['category']}.\")\n",
    "    \n",
    "    sleep(1.0)"
   ]
  },
  {
   "cell_type": "code",
   "execution_count": 11,
   "metadata": {},
   "outputs": [],
   "source": [
    "def get_account_balance(account_id):\n",
    "    return rt_contract.functions.balanceOf(account_id).call()"
   ]
  },
  {
   "cell_type": "code",
   "execution_count": 12,
   "metadata": {},
   "outputs": [
    {
     "name": "stdout",
     "output_type": "stream",
     "text": [
      "Account Balance\n",
      "===============\n",
      "0xF09bBa9C791f6898D45Ae761d410D774BE5D52F0: 317000000000000000000\n",
      "0xB7f399244620EcDd20A8b231DF65FaBb11FC2A65: 1834000000000000000000\n",
      "0xD69c0387909fA62a6C621e3A564Bf6e5F518CFc5: 1507000000000000000000\n",
      "0xA81dd6b3dcdE173C76B43de2CC60998cd1779Cda: 1133000000000000000000\n",
      "0xCFe793AcEea7525764403b99cbDd60c36892242C: 1546000000000000000000\n",
      "0x6781C4D10aE1A586baAB792ca85200eF204c6779: 824000000000000000000\n",
      "0xaE8c4Ef75f9fb0Ffae5578F912B1BbE3b8ce493e: 1103000000000000000000\n",
      "0xf93cEDcFcFde749ec876698185fA090E6880CA07: 1412000000000000000000\n",
      "0x7DA90F3794c71817f3744994DaF762f5b1E4079c: 1143000000000000000000\n"
     ]
    }
   ],
   "source": [
    "print('Account Balance')\n",
    "print('===============')\n",
    "\n",
    "for account_no in accounts:\n",
    "    print(f\"{account_no}: {get_account_balance(account_no)}\")"
   ]
  },
  {
   "cell_type": "code",
   "execution_count": 13,
   "metadata": {},
   "outputs": [
    {
     "data": {
      "text/plain": [
       "['__annotations__',\n",
       " '__call__',\n",
       " '__class__',\n",
       " '__delattr__',\n",
       " '__dict__',\n",
       " '__dir__',\n",
       " '__doc__',\n",
       " '__eq__',\n",
       " '__format__',\n",
       " '__ge__',\n",
       " '__getattribute__',\n",
       " '__gt__',\n",
       " '__hash__',\n",
       " '__init__',\n",
       " '__init_subclass__',\n",
       " '__le__',\n",
       " '__lt__',\n",
       " '__module__',\n",
       " '__ne__',\n",
       " '__new__',\n",
       " '__reduce__',\n",
       " '__reduce_ex__',\n",
       " '__repr__',\n",
       " '__setattr__',\n",
       " '__sizeof__',\n",
       " '__str__',\n",
       " '__subclasshook__',\n",
       " '__weakref__',\n",
       " '_encode_transaction_data',\n",
       " '_return_data_normalizers',\n",
       " '_set_function_info',\n",
       " 'abi',\n",
       " 'address',\n",
       " 'args',\n",
       " 'arguments',\n",
       " 'buildTransaction',\n",
       " 'call',\n",
       " 'contract_abi',\n",
       " 'estimateGas',\n",
       " 'factory',\n",
       " 'fn_name',\n",
       " 'function_identifier',\n",
       " 'kwargs',\n",
       " 'transact',\n",
       " 'transaction',\n",
       " 'web3']"
      ]
     },
     "execution_count": 13,
     "metadata": {},
     "output_type": "execute_result"
    }
   ],
   "source": [
    "dir(rt_contract.functions.transferFrom)"
   ]
  },
  {
   "cell_type": "code",
   "execution_count": null,
   "metadata": {},
   "outputs": [],
   "source": []
  }
 ],
 "metadata": {
  "kernelspec": {
   "display_name": "rewards-r-tokens",
   "language": "python",
   "name": "rewards-r-tokens"
  },
  "language_info": {
   "codemirror_mode": {
    "name": "ipython",
    "version": 3
   },
   "file_extension": ".py",
   "mimetype": "text/x-python",
   "name": "python",
   "nbconvert_exporter": "python",
   "pygments_lexer": "ipython3",
   "version": "3.7.11"
  }
 },
 "nbformat": 4,
 "nbformat_minor": 4
}
