{
 "cells": [
  {
   "cell_type": "markdown",
   "metadata": {},
   "source": [
    "# TRANSACTIONS PROCESSOR\n",
    "\n",
    "In Rewards-R-Tokens, the transactions processor is primarily responsible for:\n",
    "\n",
    "1. Mocking credit card transactions\n",
    "2. Calculate appropriate rewards token count\n",
    "3. Interact with deployed smart contract\n",
    "4. Transfer token to the customer address.\n",
    "\n",
    "A credit card transaction in our blockchain world carries the following schema:\n",
    "\n",
    "```code=json\n",
    "    {\n",
    "    transaction_id: int,\n",
    "    customer_id: address_from_ganache,\n",
    "    transaction_amount: int(in dollars),\n",
    "    transaction_category: ['gas', 'restaurant', 'grocery', 'subscription', 'entertainment'],\n",
    "    transaction_date: Date\n",
    "    }\n",
    "```"
   ]
  },
  {
   "cell_type": "code",
   "execution_count": 1,
   "metadata": {},
   "outputs": [],
   "source": [
    "# Project Imports\n",
    "\n",
    "from time import sleep\n",
    "from web3 import Web3, Account\n",
    "from dotenv import load_dotenv\n",
    "from random import choice\n",
    "from datetime import datetime\n",
    "\n",
    "import os\n",
    "import json\n",
    "import random"
   ]
  },
  {
   "cell_type": "code",
   "execution_count": 2,
   "metadata": {},
   "outputs": [],
   "source": [
    "# Declare local Ganache HTTP provider\n",
    "local_ganache_http_provider = 'HTTP://127.0.0.1:7545'\n",
    "\n",
    "# Connect to the local Ganache HTTP provider\n",
    "w3=Web3(Web3.HTTPProvider(local_ganache_http_provider))"
   ]
  },
  {
   "cell_type": "code",
   "execution_count": 3,
   "metadata": {},
   "outputs": [
    {
     "name": "stdout",
     "output_type": "stream",
     "text": [
      "Contract Deployed at: 0x325dC9c17E415E9485324017EC19622cF55F78e2 by 0x74F0C22756370a259A4F6738673588E22B18BBDE\n"
     ]
    }
   ],
   "source": [
    "\"\"\"\n",
    "!!! ATTENTION !!! ATTENTION !!! ATTENTION !!!\n",
    "\n",
    ".env file must be present in the current working directory\n",
    "wuth the following key:value pairs:\n",
    "\n",
    "CONTRACT_ADDRESS=<Deployed Contact Address from Remix>\n",
    "CONTRACT_OWNER_ADDRESS=<Contract Owner Address from Ganache>\n",
    "CONTRACT_OWNER_PVT_KEY=<Private key of CONTRACT_OWNER_ADDRESS from Ganache>\n",
    "\n",
    "You should pick the address of account that was used to deploy the contract \n",
    "as CONTRACT_OWNER_ADDRESS from Ganache.\n",
    "\"\"\"\n",
    "\n",
    "\n",
    "load_dotenv()\n",
    "contract_address = os.getenv('CONTRACT_ADDRESS')\n",
    "contract_owner_address = os.getenv('CONTRACT_OWNER_ADDRESS')\n",
    "contract_owner_pvt_key = os.getenv('CONTRACT_OWNER_PVT_KEY')\n",
    "print(f'Contract Deployed at: {contract_address} by {contract_owner_address}')"
   ]
  },
  {
   "cell_type": "code",
   "execution_count": 4,
   "metadata": {},
   "outputs": [],
   "source": [
    "# Load Application Binary Interface (abi) file as JSON\n",
    "\n",
    "with open('contract_abi.txt') as contract_abi_file:\n",
    "    contract_abi_json = json.load(contract_abi_file)\n",
    "\n",
    "# Connect to the deployed contract\n",
    "rt_contract = w3.eth.contract(contract_address, abi=contract_abi_json)"
   ]
  },
  {
   "cell_type": "code",
   "execution_count": 5,
   "metadata": {},
   "outputs": [],
   "source": [
    "# Get all accounts from local Ganache provider\n",
    "accounts = w3.eth.accounts\n",
    "\n",
    "# Remove contract owner address from accounts as we\n",
    "# DO NOT want to use the owner address for transacations.\n",
    "accounts.remove(contract_owner_address)"
   ]
  },
  {
   "cell_type": "code",
   "execution_count": 6,
   "metadata": {},
   "outputs": [],
   "source": [
    "# Create a dictionary for total customer spendings\n",
    "customer_totals = {}"
   ]
  },
  {
   "cell_type": "code",
   "execution_count": 7,
   "metadata": {},
   "outputs": [],
   "source": [
    "# Declare of list of transaction categories\n",
    "txn_categories = ['gas', 'restaurant',  'grocery', 'subscription', 'entertainment']"
   ]
  },
  {
   "cell_type": "code",
   "execution_count": 8,
   "metadata": {},
   "outputs": [],
   "source": [
    "# Declare custom token conversion values for categories.\n",
    "# TODO: This is a static list but this would be modified to be served via an API\n",
    "#  to make it dynamic in future.\n",
    "\n",
    "txn_categories_conversion_rate = { \n",
    "                                  'gas': 2.0,\n",
    "                                  'restaurant': 1.5, \n",
    "                                  'grocery': 1.0,\n",
    "                                  'subscription': 3.0,\n",
    "                                  'entertainment': 2.5\n",
    "                                 }\n",
    "\n",
    "# Number of tokens awarded = transacation_amount * txn_categories_conversion_rate[transacation_category]\n",
    "# This basically means the following:\n",
    "# If a customer spends $10 on gas, they would get 20 tokens\n",
    "# =====> $10 (transacation_amount) * 2.0 (txn_categories_conversion_rate['gas']))\n",
    "# If a customer spends $9.99 on subscriptions, they would get 29.97 tokens \n",
    "# =====> $9.99 (transacation_amount) * 3.0 (txn_categories_conversion_rate['subscription']))"
   ]
  },
  {
   "cell_type": "code",
   "execution_count": 9,
   "metadata": {},
   "outputs": [],
   "source": [
    "# Define a generator function to mock credit card transactions:\n",
    "\n",
    "def credit_card_transactions(num_transacations=10):\n",
    "    for i in range(num_transacations):\n",
    "        tx = {}\n",
    "        tx['id'] = i\n",
    "        tx['customer_id'] = choice(accounts)\n",
    "        tx['amount'] = round(random.uniform(0.5, 99.5), 2)\n",
    "        tx['category'] = choice(txn_categories)\n",
    "        tx['date'] = datetime.now().strftime('%Y-%m-%d %H:%M:%S')\n",
    "        yield tx\n",
    "    "
   ]
  },
  {
   "cell_type": "code",
   "execution_count": 14,
   "metadata": {},
   "outputs": [
    {
     "name": "stdout",
     "output_type": "stream",
     "text": [
      "17.0 tokens awarded to 0x594a6B067B737446Afdc488792C32942835725c3 for spending $8.72 on gas.\n",
      "39.0 tokens awarded to 0x594a6B067B737446Afdc488792C32942835725c3 for spending $39.97 on grocery.\n",
      "18.0 tokens awarded to 0xc4835F571731965E7154063080b8B825a5dd1394 for spending $18.19 on grocery.\n",
      "30.0 tokens awarded to 0x594a6B067B737446Afdc488792C32942835725c3 for spending $30.42 on grocery.\n",
      "92.0 tokens awarded to 0xD520bFC9Ff319A844F825Def63aFB334271876d2 for spending $61.86 on restaurant.\n",
      "28.0 tokens awarded to 0xD520bFC9Ff319A844F825Def63aFB334271876d2 for spending $14.16 on gas.\n",
      "95.0 tokens awarded to 0x664FD2fc5e6c478c2bf464976e25C18dc1881242 for spending $38.24 on entertainment.\n",
      "213.0 tokens awarded to 0x9dDed0Ab44D334f08E9B196534C35892074666fa for spending $71.23 on subscription.\n",
      "74.0 tokens awarded to 0xb86A04f0F072f942073B83ad373E3565Aa0cfcaf for spending $29.8 on entertainment.\n",
      "71.0 tokens awarded to 0xc4835F571731965E7154063080b8B825a5dd1394 for spending $47.94 on restaurant.\n",
      "2.0 tokens awarded to 0xb86A04f0F072f942073B83ad373E3565Aa0cfcaf for spending $1.2 on gas.\n",
      "197.0 tokens awarded to 0x9dDed0Ab44D334f08E9B196534C35892074666fa for spending $98.65 on gas.\n",
      "29.0 tokens awarded to 0x664FD2fc5e6c478c2bf464976e25C18dc1881242 for spending $9.95 on subscription.\n",
      "55.0 tokens awarded to 0x743deaf34D734D37c7BCFC5b4FE5b18E0617e23F for spending $36.91 on restaurant.\n",
      "128.0 tokens awarded to 0x664FD2fc5e6c478c2bf464976e25C18dc1881242 for spending $85.54 on restaurant.\n",
      "279.0 tokens awarded to 0x594a6B067B737446Afdc488792C32942835725c3 for spending $93.28 on subscription.\n",
      "113.0 tokens awarded to 0x743deaf34D734D37c7BCFC5b4FE5b18E0617e23F for spending $45.37 on entertainment.\n",
      "107.0 tokens awarded to 0x594a6B067B737446Afdc488792C32942835725c3 for spending $35.88 on subscription.\n",
      "181.0 tokens awarded to 0xD520bFC9Ff319A844F825Def63aFB334271876d2 for spending $72.64 on entertainment.\n",
      "107.0 tokens awarded to 0x664FD2fc5e6c478c2bf464976e25C18dc1881242 for spending $42.84 on entertainment.\n",
      "109.0 tokens awarded to 0xb86A04f0F072f942073B83ad373E3565Aa0cfcaf for spending $73.05 on restaurant.\n",
      "225.0 tokens awarded to 0x9dDed0Ab44D334f08E9B196534C35892074666fa for spending $90.1 on entertainment.\n",
      "16.0 tokens awarded to 0x594a6B067B737446Afdc488792C32942835725c3 for spending $6.53 on entertainment.\n",
      "30.0 tokens awarded to 0x743deaf34D734D37c7BCFC5b4FE5b18E0617e23F for spending $10.32 on subscription.\n",
      "69.0 tokens awarded to 0x9dDed0Ab44D334f08E9B196534C35892074666fa for spending $27.81 on entertainment.\n",
      "162.0 tokens awarded to 0x9dDed0Ab44D334f08E9B196534C35892074666fa for spending $81.02 on gas.\n",
      "62.0 tokens awarded to 0x594a6B067B737446Afdc488792C32942835725c3 for spending $62.0 on grocery.\n",
      "109.0 tokens awarded to 0x743deaf34D734D37c7BCFC5b4FE5b18E0617e23F for spending $73.18 on restaurant.\n",
      "182.0 tokens awarded to 0x743deaf34D734D37c7BCFC5b4FE5b18E0617e23F for spending $73.04 on entertainment.\n",
      "76.0 tokens awarded to 0xc4835F571731965E7154063080b8B825a5dd1394 for spending $76.25 on grocery.\n",
      "98.0 tokens awarded to 0x664FD2fc5e6c478c2bf464976e25C18dc1881242 for spending $39.55 on entertainment.\n",
      "38.0 tokens awarded to 0x594a6B067B737446Afdc488792C32942835725c3 for spending $12.93 on subscription.\n",
      "147.0 tokens awarded to 0x743deaf34D734D37c7BCFC5b4FE5b18E0617e23F for spending $73.59 on gas.\n",
      "177.0 tokens awarded to 0x664FD2fc5e6c478c2bf464976e25C18dc1881242 for spending $59.23 on subscription.\n",
      "178.0 tokens awarded to 0xc4835F571731965E7154063080b8B825a5dd1394 for spending $71.38 on entertainment.\n",
      "9.0 tokens awarded to 0xD520bFC9Ff319A844F825Def63aFB334271876d2 for spending $9.67 on grocery.\n",
      "112.0 tokens awarded to 0x594a6B067B737446Afdc488792C32942835725c3 for spending $56.35 on gas.\n",
      "120.0 tokens awarded to 0x594a6B067B737446Afdc488792C32942835725c3 for spending $40.05 on subscription.\n",
      "185.0 tokens awarded to 0x41971A0b1B4b928a7654bB5847Fc97704E95ce4b for spending $92.72 on gas.\n",
      "14.0 tokens awarded to 0x9dDed0Ab44D334f08E9B196534C35892074666fa for spending $14.68 on grocery.\n",
      "175.0 tokens awarded to 0xc4835F571731965E7154063080b8B825a5dd1394 for spending $58.55 on subscription.\n",
      "112.0 tokens awarded to 0xD520bFC9Ff319A844F825Def63aFB334271876d2 for spending $56.05 on gas.\n",
      "5.0 tokens awarded to 0xD520bFC9Ff319A844F825Def63aFB334271876d2 for spending $5.35 on grocery.\n",
      "98.0 tokens awarded to 0x41971A0b1B4b928a7654bB5847Fc97704E95ce4b for spending $98.63 on grocery.\n",
      "146.0 tokens awarded to 0x594a6B067B737446Afdc488792C32942835725c3 for spending $97.69 on restaurant.\n",
      "95.0 tokens awarded to 0xD520bFC9Ff319A844F825Def63aFB334271876d2 for spending $63.96 on restaurant.\n",
      "39.0 tokens awarded to 0xb86A04f0F072f942073B83ad373E3565Aa0cfcaf for spending $19.91 on gas.\n",
      "211.0 tokens awarded to 0x594a6B067B737446Afdc488792C32942835725c3 for spending $70.66 on subscription.\n",
      "62.0 tokens awarded to 0xc4835F571731965E7154063080b8B825a5dd1394 for spending $41.57 on restaurant.\n",
      "107.0 tokens awarded to 0x41971A0b1B4b928a7654bB5847Fc97704E95ce4b for spending $35.72 on subscription.\n"
     ]
    }
   ],
   "source": [
    "for c_txn in credit_card_transactions(50):\n",
    "    num_tokens_award = c_txn['amount'] * txn_categories_conversion_rate[c_txn['category']]\n",
    "    num_tokens_award = int(num_tokens_award) * (10**18)\n",
    "    txn = {\n",
    "    'from': contract_owner_address,\n",
    "    'nonce': w3.eth.get_transaction_count(contract_owner_address),\n",
    "    'gasPrice': w3.eth.gas_price\n",
    "    }\n",
    "    \n",
    "    raw_txn = rt_contract.functions.mint(c_txn['customer_id'], num_tokens_award).buildTransaction(txn)\n",
    "    \n",
    "    signed_txn = w3.eth.account.signTransaction(raw_txn, private_key=contract_owner_pvt_key)\n",
    "    \n",
    "    txn_response = w3.eth.sendRawTransaction(signed_txn.rawTransaction)\n",
    "    \n",
    "    print(f\"{num_tokens_award/(10**18)} tokens awarded to {c_txn['customer_id']} for spending ${c_txn['amount']} on {c_txn['category']}.\")\n",
    "    \n",
    "    sleep(1.0)"
   ]
  },
  {
   "cell_type": "code",
   "execution_count": 11,
   "metadata": {},
   "outputs": [],
   "source": [
    "def get_account_balance(account_id):\n",
    "    return rt_contract.functions.balanceOf(account_id).call();"
   ]
  },
  {
   "cell_type": "code",
   "execution_count": 12,
   "metadata": {},
   "outputs": [
    {
     "name": "stdout",
     "output_type": "stream",
     "text": [
      "Account Balance\n",
      "===============\n",
      "0xD520bFC9Ff319A844F825Def63aFB334271876d2: 846000000000000000000\n",
      "0xc4835F571731965E7154063080b8B825a5dd1394: 687000000000000000000\n",
      "0x743deaf34D734D37c7BCFC5b4FE5b18E0617e23F: 337000000000000000000\n",
      "0x41971A0b1B4b928a7654bB5847Fc97704E95ce4b: 538000000000000000000\n",
      "0x664FD2fc5e6c478c2bf464976e25C18dc1881242: 315000000000000000000\n",
      "0xb86A04f0F072f942073B83ad373E3565Aa0cfcaf: 1178000000000000000000\n",
      "0xB4230229eDF2a33eD67c0DDDf94B14a2fDaE4B9A: 471000000000000000000\n",
      "0x594a6B067B737446Afdc488792C32942835725c3: 149000000000000000000\n",
      "0x9dDed0Ab44D334f08E9B196534C35892074666fa: 472000000000000000000\n"
     ]
    }
   ],
   "source": [
    "print('Account Balance')\n",
    "print('===============')\n",
    "\n",
    "for account_no in accounts:\n",
    "    print(f\"{account_no}: {get_account_balance(account_no)}\")"
   ]
  },
  {
   "cell_type": "code",
   "execution_count": null,
   "metadata": {},
   "outputs": [],
   "source": []
  },
  {
   "cell_type": "code",
   "execution_count": null,
   "metadata": {},
   "outputs": [],
   "source": []
  }
 ],
 "metadata": {
  "kernelspec": {
   "display_name": "rewards-r-tokens",
   "language": "python",
   "name": "rewards-r-tokens"
  },
  "language_info": {
   "codemirror_mode": {
    "name": "ipython",
    "version": 3
   },
   "file_extension": ".py",
   "mimetype": "text/x-python",
   "name": "python",
   "nbconvert_exporter": "python",
   "pygments_lexer": "ipython3",
   "version": "3.7.11"
  }
 },
 "nbformat": 4,
 "nbformat_minor": 4
}
